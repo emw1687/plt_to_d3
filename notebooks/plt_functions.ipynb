{
 "cells": [
  {
   "cell_type": "code",
   "execution_count": 1,
   "metadata": {
    "collapsed": true
   },
   "outputs": [],
   "source": [
    "import os\n",
    "import pandas as pd\n",
    "\n",
    "import seaborn as sns\n",
    "from seaborn import plt\n",
    "#sns.set_style('white')\n",
    "\n",
    "%matplotlib inline"
   ]
  },
  {
   "cell_type": "markdown",
   "metadata": {},
   "source": [
    "### Load data"
   ]
  },
  {
   "cell_type": "markdown",
   "metadata": {},
   "source": [
    "Option A: copy/paste"
   ]
  },
  {
   "cell_type": "code",
   "execution_count": 2,
   "metadata": {
    "collapsed": false
   },
   "outputs": [],
   "source": [
    "authors = pd.read_csv('../data/processed/authors.csv')\n",
    "books = pd.read_csv('../data/processed/books.csv')"
   ]
  },
  {
   "cell_type": "markdown",
   "metadata": {},
   "source": [
    "Option B: write a function!"
   ]
  },
  {
   "cell_type": "code",
   "execution_count": 3,
   "metadata": {
    "collapsed": false
   },
   "outputs": [],
   "source": [
    "def get_data(csv_name, directory='processed'):\n",
    "    '''Returns df of csv; defaults to processed data directory'''\n",
    "    path = os.path.join(os.pardir, 'data', directory, csv_name)\n",
    "    return pd.read_csv(path)"
   ]
  },
  {
   "cell_type": "code",
   "execution_count": 4,
   "metadata": {
    "collapsed": false
   },
   "outputs": [],
   "source": [
    "authors = get_data('authors.csv')\n",
    "books = get_data('books.csv')"
   ]
  },
  {
   "cell_type": "markdown",
   "metadata": {},
   "source": [
    "### Tables"
   ]
  },
  {
   "cell_type": "code",
   "execution_count": 5,
   "metadata": {
    "collapsed": false
   },
   "outputs": [
    {
     "data": {
      "text/plain": [
       "['a_id',\n",
       " 'a_fans_count',\n",
       " 'a_works_count',\n",
       " 'gender',\n",
       " 'hometown',\n",
       " 'a_avg_rating',\n",
       " 'a_ratings_count',\n",
       " 'a_text_reviews_count',\n",
       " 'author',\n",
       " 'a_wks_on_list',\n",
       " 'a_books_on_list']"
      ]
     },
     "execution_count": 5,
     "metadata": {},
     "output_type": "execute_result"
    }
   ],
   "source": [
    "list(authors.columns)"
   ]
  },
  {
   "cell_type": "code",
   "execution_count": 6,
   "metadata": {
    "collapsed": false
   },
   "outputs": [
    {
     "data": {
      "text/plain": [
       "['b_id',\n",
       " 'gr_title',\n",
       " 'nyt_title',\n",
       " 'b_count',\n",
       " 'pub_yr',\n",
       " 'b_avg_rating',\n",
       " 'b_ratings_count',\n",
       " 'b_txt_rev_count',\n",
       " 'publisher',\n",
       " 'b_rating_5_count',\n",
       " 'b_rating_4_count',\n",
       " 'b_rating_3_count',\n",
       " 'b_rating_2_count',\n",
       " 'b_rating_1_count',\n",
       " 'b_wks_on_list',\n",
       " 'decade',\n",
       " 'a_id']"
      ]
     },
     "execution_count": 6,
     "metadata": {},
     "output_type": "execute_result"
    }
   ],
   "source": [
    "list(books.columns)"
   ]
  },
  {
   "cell_type": "markdown",
   "metadata": {},
   "source": [
    "Top 10 authors with highest number of weeks on the NYT list (could be multiple books)"
   ]
  },
  {
   "cell_type": "code",
   "execution_count": 7,
   "metadata": {
    "collapsed": false
   },
   "outputs": [
    {
     "data": {
      "text/html": [
       "<div>\n",
       "<table border=\"1\" class=\"dataframe\">\n",
       "  <thead>\n",
       "    <tr style=\"text-align: right;\">\n",
       "      <th></th>\n",
       "      <th>author</th>\n",
       "      <th>a_wks_on_list</th>\n",
       "    </tr>\n",
       "  </thead>\n",
       "  <tbody>\n",
       "    <tr>\n",
       "      <th>67</th>\n",
       "      <td>James A. Michener</td>\n",
       "      <td>200.0</td>\n",
       "    </tr>\n",
       "    <tr>\n",
       "      <th>126</th>\n",
       "      <td>Stephen King</td>\n",
       "      <td>144.0</td>\n",
       "    </tr>\n",
       "    <tr>\n",
       "      <th>128</th>\n",
       "      <td>John Grisham</td>\n",
       "      <td>139.0</td>\n",
       "    </tr>\n",
       "    <tr>\n",
       "      <th>92</th>\n",
       "      <td>James Patterson</td>\n",
       "      <td>102.0</td>\n",
       "    </tr>\n",
       "    <tr>\n",
       "      <th>226</th>\n",
       "      <td>Danielle Steel</td>\n",
       "      <td>94.0</td>\n",
       "    </tr>\n",
       "    <tr>\n",
       "      <th>236</th>\n",
       "      <td>Herman Wouk</td>\n",
       "      <td>91.0</td>\n",
       "    </tr>\n",
       "    <tr>\n",
       "      <th>153</th>\n",
       "      <td>Robert Ludlum</td>\n",
       "      <td>81.0</td>\n",
       "    </tr>\n",
       "    <tr>\n",
       "      <th>238</th>\n",
       "      <td>John le Carré</td>\n",
       "      <td>77.0</td>\n",
       "    </tr>\n",
       "    <tr>\n",
       "      <th>101</th>\n",
       "      <td>Dan Brown</td>\n",
       "      <td>75.0</td>\n",
       "    </tr>\n",
       "    <tr>\n",
       "      <th>127</th>\n",
       "      <td>Tom Clancy</td>\n",
       "      <td>74.0</td>\n",
       "    </tr>\n",
       "  </tbody>\n",
       "</table>\n",
       "</div>"
      ],
      "text/plain": [
       "                author  a_wks_on_list\n",
       "67   James A. Michener          200.0\n",
       "126       Stephen King          144.0\n",
       "128       John Grisham          139.0\n",
       "92     James Patterson          102.0\n",
       "226     Danielle Steel           94.0\n",
       "236        Herman Wouk           91.0\n",
       "153      Robert Ludlum           81.0\n",
       "238      John le Carré           77.0\n",
       "101          Dan Brown           75.0\n",
       "127         Tom Clancy           74.0"
      ]
     },
     "execution_count": 7,
     "metadata": {},
     "output_type": "execute_result"
    }
   ],
   "source": [
    "authors.sort_values('a_wks_on_list', ascending=False)[['author', 'a_wks_on_list']].head(10)"
   ]
  },
  {
   "cell_type": "code",
   "execution_count": 8,
   "metadata": {
    "collapsed": false
   },
   "outputs": [],
   "source": [
    "def top_ten(df, column, index=True):\n",
    "    '''Returns 10 highest values of df.column'''\n",
    "    if index != True:\n",
    "        df = df.set_index(index)\n",
    "    return df.sort_values(column, ascending=False)[column].head(10)"
   ]
  },
  {
   "cell_type": "code",
   "execution_count": 9,
   "metadata": {
    "collapsed": false
   },
   "outputs": [
    {
     "data": {
      "text/plain": [
       "67     200.0\n",
       "126    144.0\n",
       "128    139.0\n",
       "92     102.0\n",
       "226     94.0\n",
       "236     91.0\n",
       "153     81.0\n",
       "238     77.0\n",
       "101     75.0\n",
       "127     74.0\n",
       "Name: a_wks_on_list, dtype: float64"
      ]
     },
     "execution_count": 9,
     "metadata": {},
     "output_type": "execute_result"
    }
   ],
   "source": [
    "top_ten(authors, 'a_wks_on_list')"
   ]
  },
  {
   "cell_type": "code",
   "execution_count": 10,
   "metadata": {
    "collapsed": false
   },
   "outputs": [
    {
     "data": {
      "text/plain": [
       "author\n",
       "James A. Michener    200.0\n",
       "Stephen King         144.0\n",
       "John Grisham         139.0\n",
       "James Patterson      102.0\n",
       "Danielle Steel        94.0\n",
       "Herman Wouk           91.0\n",
       "Robert Ludlum         81.0\n",
       "John le Carré         77.0\n",
       "Dan Brown             75.0\n",
       "Tom Clancy            74.0\n",
       "Name: a_wks_on_list, dtype: float64"
      ]
     },
     "execution_count": 10,
     "metadata": {},
     "output_type": "execute_result"
    }
   ],
   "source": [
    "top_ten(authors, 'a_wks_on_list', index='author')"
   ]
  },
  {
   "cell_type": "code",
   "execution_count": 11,
   "metadata": {
    "collapsed": false
   },
   "outputs": [
    {
     "data": {
      "text/plain": [
       "325    59\n",
       "254    49\n",
       "496    48\n",
       "661    46\n",
       "472    41\n",
       "247    40\n",
       "678    38\n",
       "551    38\n",
       "391    36\n",
       "84     34\n",
       "Name: b_wks_on_list, dtype: int64"
      ]
     },
     "execution_count": 11,
     "metadata": {},
     "output_type": "execute_result"
    }
   ],
   "source": [
    "top_ten(books, 'b_wks_on_list')"
   ]
  },
  {
   "cell_type": "code",
   "execution_count": 12,
   "metadata": {
    "collapsed": false
   },
   "outputs": [
    {
     "data": {
      "text/plain": [
       "nyt_title\n",
       "The Da Vinci Code                    59\n",
       "Hawaii                               49\n",
       "The Caine Mutiny                     48\n",
       "The Robe                             46\n",
       "Love Story                           41\n",
       "The Source                           40\n",
       "The Bridges of Madison County        38\n",
       "Jonathan Livingston Seagull          38\n",
       "Trinity                              36\n",
       "The Spy Who Came in from the Cold    34\n",
       "Name: b_wks_on_list, dtype: int64"
      ]
     },
     "execution_count": 12,
     "metadata": {},
     "output_type": "execute_result"
    }
   ],
   "source": [
    "top_ten(books, 'b_wks_on_list', 'nyt_title')"
   ]
  },
  {
   "cell_type": "code",
   "execution_count": 13,
   "metadata": {
    "collapsed": false
   },
   "outputs": [
    {
     "data": {
      "text/plain": [
       "decade\n",
       "2000s    217\n",
       "2010s    194\n",
       "1990s    100\n",
       "1980s     78\n",
       "1970s     45\n",
       "1940s     44\n",
       "1950s     33\n",
       "1960s     31\n",
       "Name: nyt_title, dtype: int64"
      ]
     },
     "execution_count": 13,
     "metadata": {},
     "output_type": "execute_result"
    }
   ],
   "source": [
    "top_ten(books.groupby('decade').count(), 'nyt_title')"
   ]
  },
  {
   "cell_type": "code",
   "execution_count": 14,
   "metadata": {
    "collapsed": false
   },
   "outputs": [
    {
     "data": {
      "text/plain": [
       "publisher\n",
       "DAW Books                 4.570\n",
       "Open Road Media           4.530\n",
       "Scholastic                4.520\n",
       "Roc                       4.495\n",
       "Amy Einhorn Books         4.450\n",
       "Arthur A. Levine Books    4.430\n",
       "Crown                     4.390\n",
       "Scholastic Inc.           4.360\n",
       "Amereon Limited           4.340\n",
       "Piatkus                   4.290\n",
       "Name: b_avg_rating, dtype: float64"
      ]
     },
     "execution_count": 14,
     "metadata": {},
     "output_type": "execute_result"
    }
   ],
   "source": [
    "top_ten(books.groupby('publisher').mean(), 'b_avg_rating')"
   ]
  },
  {
   "cell_type": "code",
   "execution_count": 15,
   "metadata": {
    "collapsed": false
   },
   "outputs": [
    {
     "data": {
      "text/plain": [
       "publisher\n",
       "Unknown                     147\n",
       "Little Brown & Co            48\n",
       "Berkley                      43\n",
       "Bantam                       33\n",
       "G.P. Putnam's                29\n",
       "Grand Central Publishing     28\n",
       "Harper Collins               19\n",
       "Random House                 18\n",
       "Warner                       17\n",
       "Pocket                       16\n",
       "Name: nyt_title, dtype: int64"
      ]
     },
     "execution_count": 15,
     "metadata": {},
     "output_type": "execute_result"
    }
   ],
   "source": [
    "top_ten(books.groupby('publisher').count(), 'nyt_title')"
   ]
  },
  {
   "cell_type": "code",
   "execution_count": 16,
   "metadata": {
    "collapsed": false
   },
   "outputs": [
    {
     "data": {
      "text/plain": [
       "author\n",
       "Agatha Christie        1905\n",
       "Stephen King           1260\n",
       "Neil Gaiman            1062\n",
       "George R.R. Martin      744\n",
       "Nora Roberts            652\n",
       "W. Somerset Maugham     560\n",
       "Ernest Hemingway        543\n",
       "James Patterson         498\n",
       "Umberto Eco             483\n",
       "Louis L'Amour           465\n",
       "Name: a_works_count, dtype: int64"
      ]
     },
     "execution_count": 16,
     "metadata": {},
     "output_type": "execute_result"
    }
   ],
   "source": [
    "top_ten(authors, 'a_works_count', 'author')"
   ]
  },
  {
   "cell_type": "markdown",
   "metadata": {},
   "source": [
    "### Bar plots"
   ]
  },
  {
   "cell_type": "markdown",
   "metadata": {},
   "source": [
    "Bar plot of weeks spent on list by gender"
   ]
  },
  {
   "cell_type": "code",
   "execution_count": 17,
   "metadata": {
    "collapsed": false
   },
   "outputs": [
    {
     "data": {
      "image/png": "[encoded data removed]",
      "text/plain": [
       "<matplotlib.figure.Figure at 0x11074c550>"
      ]
     },
     "metadata": {},
     "output_type": "display_data"
    }
   ],
   "source": [
    "# df\n",
    "wks_by_gender = authors.groupby('gender', as_index=False).sum()[['gender', 'a_wks_on_list']]\n",
    "fig1 = sns.barplot(x='gender', y='a_wks_on_list', data=wks_by_gender)\n",
    "\n",
    "# label y-axis\n",
    "fig1.set(ylabel='Number of weeks on NYT best sellers list');"
   ]
  },
  {
   "cell_type": "markdown",
   "metadata": {},
   "source": [
    "Bar plot of number of authors by gender"
   ]
  },
  {
   "cell_type": "code",
   "execution_count": 18,
   "metadata": {
    "collapsed": false
   },
   "outputs": [
    {
     "data": {
      "image/png": "[encoded data removed]",
      "text/plain": [
       "<matplotlib.figure.Figure at 0x1109d85d0>"
      ]
     },
     "metadata": {},
     "output_type": "display_data"
    }
   ],
   "source": [
    "# series\n",
    "authors_by_gender = authors['gender'].value_counts()\n",
    "fig2 = sns.barplot(x=authors_by_gender.index, y=authors_by_gender.values);\n",
    "\n",
    "# label both axes\n",
    "fig2.set(xlabel='Gender', ylabel='Number of authors');"
   ]
  },
  {
   "cell_type": "markdown",
   "metadata": {},
   "source": [
    "Bar plot of top ten books by number of weeks on list"
   ]
  },
  {
   "cell_type": "code",
   "execution_count": 19,
   "metadata": {
    "collapsed": false
   },
   "outputs": [
    {
     "data": {
      "image/png": "[encoded data removed]",
      "text/plain": [
       "<matplotlib.figure.Figure at 0x110727ed0>"
      ]
     },
     "metadata": {},
     "output_type": "display_data"
    }
   ],
   "source": [
    "# series\n",
    "top_ten_author_works = top_ten(authors, 'a_works_count', 'author')\n",
    "sns.barplot(x=top_ten_author_works.index, y=top_ten_author_works.values)\n",
    "\n",
    "# rotate long labels\n",
    "plt.xticks(rotation=45)\n",
    "\n",
    "# align labels with bars\n",
    "plt.xticks(ha='right');"
   ]
  },
  {
   "cell_type": "markdown",
   "metadata": {},
   "source": [
    "[Remove to improve (the data-ink ratio) by Darkhouse Analytics](http://www.darkhorseanalytics.com/blog/data-looks-better-naked)\n",
    "* Remove backgrounds\n",
    "* Remove redundant labels\n",
    "* Remove borders\n",
    "* Reduce colors\n",
    "* Remove special effects\n",
    "* Remove bolding\n",
    "* Lighten labels\n",
    "* Lighten or remove lines\n",
    "* Add direct labels"
   ]
  },
  {
   "cell_type": "code",
   "execution_count": 30,
   "metadata": {
    "collapsed": false
   },
   "outputs": [
    {
     "data": {
      "text/plain": [
       "<matplotlib.axes._subplots.AxesSubplot at 0x110727fd0>"
      ]
     },
     "execution_count": 30,
     "metadata": {},
     "output_type": "execute_result"
    }
   ],
   "source": [
    "fig1"
   ]
  },
  {
   "cell_type": "code",
   "execution_count": 20,
   "metadata": {
    "collapsed": true
   },
   "outputs": [],
   "source": [
    "# remove backgrounds\n",
    "# remove redundant labels\n",
    "# remove borders\n",
    "# reduce colors\n",
    "# remove special effects\n",
    "# remove bolding\n",
    "# lighten labels\n",
    "# lighten or remove lines\n",
    "# add direct labels"
   ]
  },
  {
   "cell_type": "code",
   "execution_count": null,
   "metadata": {
    "collapsed": true
   },
   "outputs": [],
   "source": [
    "def create_empty_fig(xlabel='', ylabel=''):\n",
    "    '''Returns empty Tufte-style fig, ax objects'''\n",
    "    # create figures and axes objects to modify\n",
    "    fig, ax = plt.subplots(figsize=(8,6))\n",
    "\n",
    "    # remove y axis tick labels\n",
    "    ax.set_yticklabels([])\n",
    "\n",
    "    # remove square outline\n",
    "    ax.set_frame_on(False)\n",
    "    \n",
    "    # add labels for axes\n",
    "    ax.set(xlabel=xlabel, ylabel=ylabel);\n",
    "    \n",
    "    return fig, ax"
   ]
  },
  {
   "cell_type": "code",
   "execution_count": null,
   "metadata": {
    "collapsed": false
   },
   "outputs": [],
   "source": [
    "def highlight_max(data, highlight, standard):\n",
    "    '''Sets biggest value to highlight color'''\n",
    "    return [standard if (x < max(data.values)) else highlight for x in data.values]"
   ]
  },
  {
   "cell_type": "code",
   "execution_count": null,
   "metadata": {
    "collapsed": true
   },
   "outputs": [],
   "source": [
    "def add_bar_labels(data, ax):\n",
    "    '''Adds labels to tops of bars of sns barplot'''\n",
    "    labels = data.values # label each bar with y value\n",
    "    y_margin = max(labels) * 0.01\n",
    "    for bar, label in zip(ax.patches, labels):\n",
    "        #x location of label\n",
    "        x = bar.get_x()\n",
    "        bar_width = bar.get_width()\n",
    "        center = x + bar_width/2.0\n",
    "\n",
    "        #y location of label\n",
    "        bar_height = bar.get_height()\n",
    "\n",
    "        ax.text(x=center, y=bar_height + y_margin, s=label, ha='center')"
   ]
  },
  {
   "cell_type": "code",
   "execution_count": null,
   "metadata": {
    "collapsed": true
   },
   "outputs": [],
   "source": [
    "def highlighted_bar_chart(data, xlabel='', ylabel=''):\n",
    "    # create empty fig, ax\n",
    "    fig, ax = create_empty_fig(xlabel='Gender', ylabel='Number of authors')\n",
    "\n",
    "    # draw plot bar\n",
    "    # color palette\n",
    "    highlight = '#4c4e2f'\n",
    "    standard = '#a4a86f'\n",
    "\n",
    "    colors = highlight_max(data, highlight, standard)\n",
    "    sns.barplot(x=data.index, y=data.values, palette=colors)\n",
    "\n",
    "    # add labels on top of bars\n",
    "    add_bar_labels(data, ax)"
   ]
  },
  {
   "cell_type": "code",
   "execution_count": null,
   "metadata": {
    "collapsed": false
   },
   "outputs": [],
   "source": [
    "# create empty fig, ax\n",
    "fig, ax = create_empty_fig(xlabel='Gender', ylabel='Number of authors')\n",
    "\n",
    "# dataset is number of authors by gender\n",
    "data = authors['gender'].value_counts()\n",
    "print(data)\n",
    "\n",
    "# draw plot bar\n",
    "# color palette\n",
    "highlight = '#4c4e2f'\n",
    "standard = '#a4a86f'\n",
    "\n",
    "colors = highlight_max(data, highlight, standard)\n",
    "sns.barplot(x=data.index, y=data.values, palette=colors)\n",
    "\n",
    "# add labels on top of bars\n",
    "add_bar_labels(data, ax)"
   ]
  },
  {
   "cell_type": "code",
   "execution_count": null,
   "metadata": {
    "collapsed": false
   },
   "outputs": [],
   "source": [
    "# dataset is number of authors by gender\n",
    "wks_by_gender = authors.groupby('gender').sum()['a_wks_on_list']\n",
    "print(wks_by_gender)\n",
    "\n",
    "highlighted_bar_chart(wks_by_gender, xlabel='Gender', ylabel='Number of weeks on list')"
   ]
  },
  {
   "cell_type": "code",
   "execution_count": null,
   "metadata": {
    "collapsed": false
   },
   "outputs": [],
   "source": [
    "# dataset is number of authors by gender\n",
    "data = authors['gender'].value_counts()\n",
    "print(data)\n",
    "\n",
    "highlighted_bar_chart(data, xlabel='Gender', ylabel='Number of authors')"
   ]
  },
  {
   "cell_type": "markdown",
   "metadata": {},
   "source": [
    "Histogram of numbers of weeks spent on list by author"
   ]
  },
  {
   "cell_type": "code",
   "execution_count": null,
   "metadata": {
    "collapsed": false
   },
   "outputs": [],
   "source": [
    "# create empty fig, ax\n",
    "fig, ax = create_empty_fig(xlabel='Number of weeks on NYT list', ylabel='Number of authors')\n",
    "sns.distplot(authors['a_wks_on_list'], kde=False);"
   ]
  },
  {
   "cell_type": "code",
   "execution_count": null,
   "metadata": {
    "collapsed": false
   },
   "outputs": [],
   "source": [
    "fig3 = sns.distplot(authors['a_wks_on_list'], kde=False)\n",
    "fig3.set(xlabel='Number of weeks on NYT list', ylabel='Number of authors');"
   ]
  },
  {
   "cell_type": "markdown",
   "metadata": {},
   "source": [
    "Histogram of number of books (total) by author."
   ]
  },
  {
   "cell_type": "code",
   "execution_count": null,
   "metadata": {
    "collapsed": false
   },
   "outputs": [],
   "source": [
    "fig4 = sns.distplot(authors['a_works_count'], kde=False)\n",
    "fig4.set(xlabel='Total number of works', ylabel='Number of authors');"
   ]
  },
  {
   "cell_type": "markdown",
   "metadata": {},
   "source": [
    "Top 10 authors with highest number of total works"
   ]
  },
  {
   "cell_type": "markdown",
   "metadata": {},
   "source": [
    "Histogram of number of books on NYT list by author."
   ]
  },
  {
   "cell_type": "code",
   "execution_count": null,
   "metadata": {
    "collapsed": false
   },
   "outputs": [],
   "source": [
    "fig5 = sns.distplot(authors['a_books_on_list'], kde=False);\n",
    "fig5.set(xlabel='Number of books on NYT list', ylabel='Number of authors');"
   ]
  },
  {
   "cell_type": "markdown",
   "metadata": {},
   "source": [
    "Top 10 authors with highest number of books on NYT list"
   ]
  },
  {
   "cell_type": "code",
   "execution_count": null,
   "metadata": {
    "collapsed": false
   },
   "outputs": [],
   "source": [
    "authors.sort_values('a_books_on_list', ascending=False)[['author','a_books_on_list', 'a_wks_on_list']].head(10)"
   ]
  },
  {
   "cell_type": "markdown",
   "metadata": {},
   "source": [
    "Histogram of average book rating"
   ]
  },
  {
   "cell_type": "code",
   "execution_count": null,
   "metadata": {
    "collapsed": false
   },
   "outputs": [],
   "source": [
    "authors['a_avg_rating'].mean()"
   ]
  },
  {
   "cell_type": "code",
   "execution_count": null,
   "metadata": {
    "collapsed": false
   },
   "outputs": [],
   "source": [
    "fig, ax = plt.subplots(figsize=(12,8))\n",
    "ax.set_frame_on(False)\n",
    "fig6 = sns.distplot(authors['a_avg_rating'], kde=True, color='#a4a86f');\n",
    "fig6.set(xlabel='Average Rating', ylabel='Number of authors');"
   ]
  },
  {
   "cell_type": "markdown",
   "metadata": {},
   "source": [
    "Author pairplots"
   ]
  },
  {
   "cell_type": "code",
   "execution_count": null,
   "metadata": {
    "collapsed": false
   },
   "outputs": [],
   "source": [
    "sns.pairplot(authors);"
   ]
  },
  {
   "cell_type": "markdown",
   "metadata": {},
   "source": [
    "### Books EDA"
   ]
  },
  {
   "cell_type": "code",
   "execution_count": null,
   "metadata": {
    "collapsed": true
   },
   "outputs": [],
   "source": [
    "#calculate number of weeks each book was on NYT lists by year, by book, and by author\n",
    "nyt_by_year = nyt.groupby(by=['title', 'author', 'year'], as_index=False).count()[['title', 'author', 'year', 'date']]"
   ]
  },
  {
   "cell_type": "code",
   "execution_count": null,
   "metadata": {
    "collapsed": true
   },
   "outputs": [],
   "source": [
    "#rename columns to be able to join nyt df with goodreads dfs\n",
    "columns = {'title': 'nyt_title',\n",
    "           'date': 'b_wks_on_list'}\n",
    "\n",
    "nyt_by_year.rename(columns=columns, inplace=True)"
   ]
  },
  {
   "cell_type": "markdown",
   "metadata": {},
   "source": [
    "Bar plot of total number of books per year"
   ]
  },
  {
   "cell_type": "code",
   "execution_count": null,
   "metadata": {
    "collapsed": false
   },
   "outputs": [],
   "source": [
    "nyt_by_year = nyt_by_year.groupby('year', as_index=False).count()[['year', 'nyt_title']]"
   ]
  },
  {
   "cell_type": "code",
   "execution_count": null,
   "metadata": {
    "collapsed": false
   },
   "outputs": [],
   "source": [
    "nyt_by_year.rename(columns={'nyt_title': 'num_of_books'}, inplace=True)"
   ]
  },
  {
   "cell_type": "code",
   "execution_count": null,
   "metadata": {
    "collapsed": false
   },
   "outputs": [],
   "source": [
    "fig, ax = plt.subplots(figsize=(12,8))\n",
    "fig7 = sns.barplot(x='year', y='num_of_books', data=nyt_by_year, ax=ax, color='#a4a86f')\n",
    "fig7.set(ylabel='Number of books on NYT Bestseller List')\n",
    "fig7.set(Xlabel='Year')\n",
    "ax.set_frame_on(False)\n",
    "fig7.set(yticklabels=[])\n",
    "fig7.set(xticklabels=[]);"
   ]
  },
  {
   "cell_type": "markdown",
   "metadata": {},
   "source": [
    "Bar plot of total books per decade"
   ]
  },
  {
   "cell_type": "code",
   "execution_count": null,
   "metadata": {
    "collapsed": false
   },
   "outputs": [],
   "source": [
    "books_by_decade = books.groupby('decade', as_index=False).count()[['decade', 'nyt_title']]\n",
    "books_by_decade.rename(columns={'nyt_title': 'num_of_books'}, inplace=True)"
   ]
  },
  {
   "cell_type": "code",
   "execution_count": null,
   "metadata": {
    "collapsed": false
   },
   "outputs": [],
   "source": [
    "books_by_decade.loc[books_by_decade['decade']=='2010s', 'num_of_books'] = (194*10/7)"
   ]
  },
  {
   "cell_type": "code",
   "execution_count": null,
   "metadata": {
    "collapsed": false
   },
   "outputs": [],
   "source": [
    "194*10/7"
   ]
  },
  {
   "cell_type": "code",
   "execution_count": null,
   "metadata": {
    "collapsed": false
   },
   "outputs": [],
   "source": [
    "fig, ax = plt.subplots(figsize=(12,8))\n",
    "fig8 = sns.barplot(x='decade', y='num_of_books', data=books_by_decade, ax=ax, color='#a4a86f')\n",
    "fig8.set(ylabel='Number of books on NYT best sellers list')\n",
    "fig8.set(xlabel='Decade')\n",
    "ax.set_frame_on(False)\n",
    "plt.xticks(rotation=0);"
   ]
  },
  {
   "cell_type": "markdown",
   "metadata": {},
   "source": [
    "Bar plot of total books by publisher"
   ]
  },
  {
   "cell_type": "code",
   "execution_count": null,
   "metadata": {
    "collapsed": false
   },
   "outputs": [],
   "source": [
    "pub_counts = books.groupby('publisher', as_index=False).count()[['publisher', 'b_count']]\n",
    "fig9 = sns.barplot(x='publisher', y='b_count', data=pub_counts)\n",
    "fig9.set(xlabel='Publisher', ylabel='Number of books');"
   ]
  },
  {
   "cell_type": "markdown",
   "metadata": {},
   "source": [
    "Bar plot of total books by publisher (without unknowns)"
   ]
  },
  {
   "cell_type": "code",
   "execution_count": null,
   "metadata": {
    "collapsed": true
   },
   "outputs": [],
   "source": [
    "#remove Unknown\n",
    "pub_counts = pub_counts.drop(111)"
   ]
  },
  {
   "cell_type": "code",
   "execution_count": null,
   "metadata": {
    "collapsed": false
   },
   "outputs": [],
   "source": [
    "fig, ax = plt.subplots(figsize=(12,8))\n",
    "fig10 = sns.barplot(x='publisher', y='b_count', data=pub_counts, ax=ax)\n",
    "fig10.set(xlabel='Publisher', ylabel='Number of books');\n",
    "plt.xticks(rotation=45);"
   ]
  },
  {
   "cell_type": "markdown",
   "metadata": {},
   "source": [
    "Bar plot of total books by publisher by decade (without unknowns)"
   ]
  },
  {
   "cell_type": "code",
   "execution_count": null,
   "metadata": {
    "collapsed": false
   },
   "outputs": [],
   "source": [
    "pub_counts_decades = books.groupby(['publisher', 'decade'], as_index=False).count()[['publisher', 'decade', 'b_count']]\n",
    "decade = pub_counts_decades[pub_counts_decades['decade']=='2010s']\n",
    "decade = decade[decade['b_count'] > 1]\n",
    "decade = decade[decade['publisher'] != 'Unknown']\n",
    "fig16 = sns.barplot(x='publisher', y='b_count', data=decade)\n",
    "fig16.set(xlabel='Publisher', ylabel='Number of books')\n",
    "plt.xticks(rotation=45);"
   ]
  },
  {
   "cell_type": "code",
   "execution_count": null,
   "metadata": {
    "collapsed": false
   },
   "outputs": [],
   "source": [
    "pub_counts = books.groupby(['publisher', 'b_wks_on_list'], as_index=False).count()[['publisher', 'b_wks_on_list', 'b_count']]\n",
    "pub_counts = pub_counts[pub_counts['b_wks_on_list'] == 1]\n",
    "pub_counts = pub_counts[pub_counts['b_count'] > 5]\n",
    "pub_counts = pub_counts[pub_counts['publisher'] != 'Unknown']\n",
    "fig9 = sns.barplot(x='publisher', y='b_count', data=pub_counts)\n",
    "fig9.set(xlabel='Publisher', ylabel='Number of books')\n",
    "plt.xticks(rotation=45);"
   ]
  },
  {
   "cell_type": "code",
   "execution_count": null,
   "metadata": {
    "collapsed": false
   },
   "outputs": [],
   "source": [
    "pub_counts = books.groupby(['publisher', 'b_wks_on_list'], as_index=False).count()[['publisher', 'b_wks_on_list', 'b_count']]\n",
    "pub_counts = pub_counts[pub_counts['b_wks_on_list'] > 1]\n",
    "pub_counts = pub_counts[pub_counts['b_count'] > 1]\n",
    "pub_counts = pub_counts[pub_counts['publisher'] != 'Unknown']\n",
    "fig9 = sns.barplot(x='publisher', y='b_count', data=pub_counts)\n",
    "fig9.set(xlabel='Publisher', ylabel='Number of books')\n",
    "plt.xticks(rotation=45);"
   ]
  },
  {
   "cell_type": "markdown",
   "metadata": {
    "collapsed": false
   },
   "source": [
    "Histogram of number of weeks on NYT list by book"
   ]
  },
  {
   "cell_type": "code",
   "execution_count": null,
   "metadata": {
    "collapsed": false
   },
   "outputs": [],
   "source": [
    "len(books)"
   ]
  },
  {
   "cell_type": "code",
   "execution_count": null,
   "metadata": {
    "collapsed": false
   },
   "outputs": [],
   "source": [
    "float(len(books[books['b_wks_on_list']<7]))/len(books)"
   ]
  },
  {
   "cell_type": "code",
   "execution_count": null,
   "metadata": {
    "collapsed": false
   },
   "outputs": [],
   "source": [
    "fig, ax = plt.subplots(figsize=(12,8))\n",
    "#fig8 = sns.barplot(x='decade', y='num_of_books', data=books_by_decade, ax=ax, palette='RdBu')\n",
    "#fig8.set(ylabel='Number of books on NYT best sellers list')\n",
    "#fig8.set(xlabel='Decade')\n",
    "ax.set_frame_on(False)\n",
    "plt.xticks(rotation=0);\n",
    "\n",
    "dark = '#4c4e2f'\n",
    "light = '#a4a86f'\n",
    "\n",
    "fig11 = sns.distplot(books['b_wks_on_list'], bins=60, kde=False, norm_hist=True, ax=ax, color=dark)\n",
    "fig11.set(xlabel='Number of weeks on NYT list', ylabel='Number of books');"
   ]
  },
  {
   "cell_type": "markdown",
   "metadata": {},
   "source": [
    "Top 10 books with longest run on NYT list"
   ]
  },
  {
   "cell_type": "code",
   "execution_count": null,
   "metadata": {
    "collapsed": false
   },
   "outputs": [],
   "source": [
    "books.sort_values('b_wks_on_list', ascending=False)[['nyt_title', 'author', 'decade', 'b_wks_on_list']].head(10)"
   ]
  },
  {
   "cell_type": "markdown",
   "metadata": {},
   "source": [
    "Histogram of average book rating"
   ]
  },
  {
   "cell_type": "code",
   "execution_count": null,
   "metadata": {
    "collapsed": false
   },
   "outputs": [],
   "source": [
    "books['b_avg_rating'].mean()"
   ]
  },
  {
   "cell_type": "code",
   "execution_count": null,
   "metadata": {
    "collapsed": false
   },
   "outputs": [],
   "source": [
    "fig, ax = plt.subplots(figsize=(12,8))\n",
    "ax.set_frame_on(False)\n",
    "fig12 = sns.distplot(books['b_avg_rating'], kde=True, color='#a4a86f');\n",
    "fig12.set(xlabel='Average Rating', ylabel='Number of books');"
   ]
  },
  {
   "cell_type": "markdown",
   "metadata": {},
   "source": [
    "Top 10 highly rated books"
   ]
  },
  {
   "cell_type": "code",
   "execution_count": null,
   "metadata": {
    "collapsed": false
   },
   "outputs": [],
   "source": [
    "books.sort_values('b_avg_rating', ascending=False).head(10)[['nyt_title', 'b_avg_rating']]"
   ]
  },
  {
   "cell_type": "markdown",
   "metadata": {},
   "source": [
    "Scatter plot of average book rating vs. number of weeks on NYT list"
   ]
  },
  {
   "cell_type": "code",
   "execution_count": null,
   "metadata": {
    "collapsed": true
   },
   "outputs": [],
   "source": [
    "more_than_one = books[books['b_wks_on_list']>1]"
   ]
  },
  {
   "cell_type": "code",
   "execution_count": null,
   "metadata": {
    "collapsed": false
   },
   "outputs": [],
   "source": [
    "fig13 = sns.jointplot(x='b_avg_rating',\n",
    "                      y='b_wks_on_list',\n",
    "                      data=books,\n",
    "                      kind='hex',\n",
    "                      color='#a4a86f');\n",
    "fig13.set_axis_labels(xlabel='Book Rating', ylabel='Weeks at #1');"
   ]
  },
  {
   "cell_type": "markdown",
   "metadata": {},
   "source": [
    "Scatter plot of average book rating vs. number of weeks on NYT list; separate plot for each decade"
   ]
  },
  {
   "cell_type": "code",
   "execution_count": null,
   "metadata": {
    "collapsed": false
   },
   "outputs": [],
   "source": [
    "decades = books['decade'].unique()"
   ]
  },
  {
   "cell_type": "code",
   "execution_count": null,
   "metadata": {
    "collapsed": false
   },
   "outputs": [],
   "source": [
    "decades.sort()"
   ]
  },
  {
   "cell_type": "code",
   "execution_count": null,
   "metadata": {
    "collapsed": false
   },
   "outputs": [],
   "source": [
    "books[books['decade']=='1940s'].sort_values('b_avg_rating')[['nyt_title', 'author', 'b_avg_rating', 'b_id', 'a_id']].head()"
   ]
  },
  {
   "cell_type": "code",
   "execution_count": null,
   "metadata": {
    "collapsed": false
   },
   "outputs": [],
   "source": [
    "def wks_vs_rating(df, title):\n",
    "    fig, ax = plt.subplots()\n",
    "    #ax = plt.figure()\n",
    "    ax.set_xbound(lower=0, upper=70)\n",
    "    ax.set_ybound(lower=2.5, upper=5)\n",
    "    fig = sns.regplot(y='b_avg_rating',\n",
    "                      x='b_wks_on_list',\n",
    "                      data=df,\n",
    "                      scatter=True,\n",
    "                      ax=ax,\n",
    "                      color='#a4a86f',\n",
    "                      scatter_kws={'alpha': 0.3})\n",
    "    fig.set(ylabel='Average Rating', xlabel='Weeks on NYT list');\n",
    "    fig.axes.set_title(title)"
   ]
  },
  {
   "cell_type": "code",
   "execution_count": null,
   "metadata": {
    "collapsed": false
   },
   "outputs": [],
   "source": [
    "#get rid of the outlier on left\n",
    "wks_vs_rating(books, 'All Books')"
   ]
  },
  {
   "cell_type": "code",
   "execution_count": null,
   "metadata": {
    "collapsed": false,
    "scrolled": false
   },
   "outputs": [],
   "source": [
    "for decade in decades:\n",
    "    #print type(decade)\n",
    "    wks_vs_rating(books[books['decade'] == str(decade)], decade)"
   ]
  },
  {
   "cell_type": "markdown",
   "metadata": {},
   "source": [
    "Hexplot of author rating vs book rating"
   ]
  },
  {
   "cell_type": "code",
   "execution_count": null,
   "metadata": {
    "collapsed": false
   },
   "outputs": [],
   "source": [
    "fig14 = sns.jointplot(x='b_avg_rating',\n",
    "                      y='a_avg_rating',\n",
    "                      data=books,\n",
    "                      kind='hex',\n",
    "                      color='#a4a86f');\n",
    "fig14.set_axis_labels(xlabel='Book Rating', ylabel='Author Rating');"
   ]
  },
  {
   "cell_type": "markdown",
   "metadata": {},
   "source": [
    "Barplot of ratings distributions (how many 5 ratings, 4 ratings, etc)"
   ]
  },
  {
   "cell_type": "code",
   "execution_count": null,
   "metadata": {
    "collapsed": false
   },
   "outputs": [],
   "source": [
    "ratings = books[['b_rating_5_count', 'b_rating_4_count', 'b_rating_3_count', 'b_rating_2_count', 'b_rating_1_count']]\n",
    "ratings = ratings.sum()\n",
    "fig15 = sns.barplot(x=['5', '4', '3', '2', '1'], y=ratings)\n",
    "fig15.set(xlabel='Rating', ylabel='Number of ratings');"
   ]
  },
  {
   "cell_type": "markdown",
   "metadata": {},
   "source": [
    "Pairplots of book's average rating and book's characteristics"
   ]
  },
  {
   "cell_type": "code",
   "execution_count": null,
   "metadata": {
    "collapsed": false
   },
   "outputs": [],
   "source": [
    "sns.pairplot(books[['b_avg_rating', 'b_ratings_count', 'b_txt_rev_count', 'b_wks_on_list']]);"
   ]
  },
  {
   "cell_type": "markdown",
   "metadata": {},
   "source": [
    "Pairplots of book's average rating and author's characteristics"
   ]
  },
  {
   "cell_type": "code",
   "execution_count": null,
   "metadata": {
    "collapsed": false
   },
   "outputs": [],
   "source": [
    "sns.pairplot(books[['b_avg_rating', 'a_fans_count', 'a_wks_on_list', 'a_books_on_list']]);"
   ]
  },
  {
   "cell_type": "code",
   "execution_count": null,
   "metadata": {
    "collapsed": false
   },
   "outputs": [],
   "source": [
    "sns.pairplot(books[['b_avg_rating', 'a_avg_rating', 'a_ratings_count', 'a_text_reviews_count']]);"
   ]
  },
  {
   "cell_type": "code",
   "execution_count": null,
   "metadata": {
    "collapsed": false
   },
   "outputs": [],
   "source": [
    "sns.pairplot(books[['b_avg_rating', 'a_fans_count', 'a_works_count', 'a_wks_on_list']]);"
   ]
  },
  {
   "cell_type": "code",
   "execution_count": null,
   "metadata": {
    "collapsed": true
   },
   "outputs": [],
   "source": []
  }
 ],
 "metadata": {
  "anaconda-cloud": {},
  "kernelspec": {
   "display_name": "Python [conda root]",
   "language": "python",
   "name": "conda-root-py"
  },
  "language_info": {
   "codemirror_mode": {
    "name": "ipython",
    "version": 2
   },
   "file_extension": ".py",
   "mimetype": "text/x-python",
   "name": "python",
   "nbconvert_exporter": "python",
   "pygments_lexer": "ipython2",
   "version": "2.7.12"
  }
 },
 "nbformat": 4,
 "nbformat_minor": 1
}
