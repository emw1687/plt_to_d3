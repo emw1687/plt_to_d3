{
 "cells": [
  {
   "cell_type": "markdown",
   "metadata": {},
   "source": [
    "## Goal: to create a library of visualization functions \n",
    "\n",
    "### Why?\n",
    "* To make it EASY to create useful, well-designed, meaningful visualizations using seaborn\n",
    "* To practice writing reusable, testable code"
   ]
  },
  {
   "cell_type": "markdown",
   "metadata": {},
   "source": [
    "### admin"
   ]
  },
  {
   "cell_type": "code",
   "execution_count": null,
   "metadata": {
    "collapsed": false
   },
   "outputs": [],
   "source": [
    "import os\n",
    "\n",
    "import pandas as pd\n",
    "\n",
    "import seaborn as sns\n",
    "sns.set_context(\"talk\")\n",
    "\n",
    "from seaborn import plt\n",
    "%matplotlib inline\n",
    "\n",
    "%load_ext autoreload\n",
    "%autoreload 2"
   ]
  },
  {
   "cell_type": "code",
   "execution_count": null,
   "metadata": {
    "collapsed": false
   },
   "outputs": [],
   "source": [
    "def get_data(csv_name, directory='processed'):\n",
    "    '''Returns df of csv; defaults to processed data directory'''\n",
    "    path = os.path.join(os.pardir, 'data', directory, csv_name)\n",
    "    return pd.read_csv(path, encoding='utf-8')\n",
    "\n",
    "def clear_fig():\n",
    "    '''Clears fig object and resets sns context'''\n",
    "    fig = plt.gcf()\n",
    "    fig.clear();\n",
    "    sns.set_context(\"talk\")"
   ]
  },
  {
   "cell_type": "markdown",
   "metadata": {},
   "source": [
    "## The data: New York Times Best Sellers List"
   ]
  },
  {
   "cell_type": "markdown",
   "metadata": {},
   "source": [
    "* Scraped from Wikipedia & Goodreads\n",
    "* Weekly list from 1942-2016"
   ]
  },
  {
   "cell_type": "code",
   "execution_count": null,
   "metadata": {
    "collapsed": false
   },
   "outputs": [],
   "source": [
    "authors = get_data('authors.csv')\n",
    "books = get_data('books.csv')"
   ]
  },
  {
   "cell_type": "code",
   "execution_count": null,
   "metadata": {
    "collapsed": false
   },
   "outputs": [],
   "source": [
    "list(authors.columns)"
   ]
  },
  {
   "cell_type": "code",
   "execution_count": null,
   "metadata": {
    "collapsed": false
   },
   "outputs": [],
   "source": [
    "list(books.columns)"
   ]
  },
  {
   "cell_type": "markdown",
   "metadata": {},
   "source": [
    "### What are you curious about?"
   ]
  },
  {
   "cell_type": "markdown",
   "metadata": {},
   "source": [
    "If you were given this dataset, what would you do first? What questions do you have?"
   ]
  },
  {
   "cell_type": "markdown",
   "metadata": {},
   "source": [
    "Write a list of questions here:"
   ]
  },
  {
   "cell_type": "markdown",
   "metadata": {},
   "source": [
    "## EDA\n",
    "\n",
    "Visualization is the quickest way to understand data quickly\n",
    "\n",
    "Hurdle: _making_ nice visualizations _quickly_\n",
    "\n",
    "Solution: functions!"
   ]
  },
  {
   "cell_type": "markdown",
   "metadata": {},
   "source": [
    "### Tables"
   ]
  },
  {
   "cell_type": "code",
   "execution_count": null,
   "metadata": {
    "collapsed": true
   },
   "outputs": [],
   "source": [
    "# answer one of our questions here using a table\n"
   ]
  },
  {
   "cell_type": "markdown",
   "metadata": {},
   "source": [
    "#### Examples that might be useful"
   ]
  },
  {
   "cell_type": "code",
   "execution_count": null,
   "metadata": {
    "collapsed": false
   },
   "outputs": [],
   "source": [
    "# top 10 authors with highest number of weeks on the NYT list\n",
    "authors.sort_values('a_wks_on_list', ascending=False)[['author', 'a_wks_on_list']].head(10)"
   ]
  },
  {
   "cell_type": "code",
   "execution_count": null,
   "metadata": {
    "collapsed": false
   },
   "outputs": [],
   "source": [
    "# top 10 books with highest number of weeks on the NYT list\n",
    "books.sort_values('b_wks_on_list', ascending=False)[['nyt_title', 'b_wks_on_list']].head(10)"
   ]
  },
  {
   "cell_type": "markdown",
   "metadata": {},
   "source": [
    "#### Let's make it abstract and resuable"
   ]
  },
  {
   "cell_type": "code",
   "execution_count": null,
   "metadata": {
    "collapsed": true
   },
   "outputs": [],
   "source": [
    "# fill this in\n",
    "def top_ten():\n",
    "    '''What does this function do?'''\n",
    "    return null"
   ]
  },
  {
   "cell_type": "markdown",
   "metadata": {},
   "source": [
    "##### Version 1"
   ]
  },
  {
   "cell_type": "code",
   "execution_count": null,
   "metadata": {
    "collapsed": true
   },
   "outputs": [],
   "source": [
    "def top_ten(df, label_col, value_col, num=10):\n",
    "    '''Returns dataframe with 10 (by default) highest values in value_col'''\n",
    "    return df.sort_values(value_col, ascending=False)[[label_col, value_col]].head(num)"
   ]
  },
  {
   "cell_type": "code",
   "execution_count": null,
   "metadata": {
    "collapsed": false
   },
   "outputs": [],
   "source": [
    "top_ten(authors, 'author', 'a_wks_on_list')"
   ]
  },
  {
   "cell_type": "code",
   "execution_count": null,
   "metadata": {
    "collapsed": false,
    "scrolled": true
   },
   "outputs": [],
   "source": [
    "top_ten(books, 'nyt_title', 'b_wks_on_list')"
   ]
  },
  {
   "cell_type": "code",
   "execution_count": null,
   "metadata": {
    "collapsed": false
   },
   "outputs": [],
   "source": [
    "# this isn't going to work\n",
    "top_ten(books.groupby('decade').count(), 'decade', 'nyt_title')"
   ]
  },
  {
   "cell_type": "code",
   "execution_count": null,
   "metadata": {
    "collapsed": false
   },
   "outputs": [],
   "source": [
    "# fix it\n",
    "top_ten(books.groupby('decade').count(), 'decade', 'nyt_title')"
   ]
  },
  {
   "cell_type": "markdown",
   "metadata": {},
   "source": [
    "##### Version 2"
   ]
  },
  {
   "cell_type": "code",
   "execution_count": null,
   "metadata": {
    "collapsed": false
   },
   "outputs": [],
   "source": [
    "def top_ten(df, column, index=True, num=10):\n",
    "    '''Returns series indexed by df.index and 10 (by default) highest values of column'''\n",
    "    if index != True:\n",
    "        df = df.set_index(index)\n",
    "    return df.sort_values(column, ascending=False)[column].head(num)"
   ]
  },
  {
   "cell_type": "code",
   "execution_count": null,
   "metadata": {
    "collapsed": false
   },
   "outputs": [],
   "source": [
    "top_ten(books.groupby('decade').count(), 'nyt_title')"
   ]
  },
  {
   "cell_type": "markdown",
   "metadata": {},
   "source": [
    "##### Let's make this function accessible to our whole repo by moving it to a .py file."
   ]
  },
  {
   "cell_type": "code",
   "execution_count": null,
   "metadata": {
    "collapsed": true
   },
   "outputs": [],
   "source": [
    "# this allows jupyter notebook to import a module from up the directory structure\n",
    "import sys\n",
    "module_path = os.path.abspath(os.path.join('..'))\n",
    "if module_path not in sys.path:\n",
    "    sys.path.append(module_path)"
   ]
  },
  {
   "cell_type": "code",
   "execution_count": null,
   "metadata": {
    "collapsed": false
   },
   "outputs": [],
   "source": [
    "from src.visualization import visualize as v"
   ]
  },
  {
   "cell_type": "code",
   "execution_count": null,
   "metadata": {
    "collapsed": false
   },
   "outputs": [],
   "source": [
    "v.top_ten(books.groupby('publisher').mean(), 'b_avg_rating')"
   ]
  },
  {
   "cell_type": "code",
   "execution_count": null,
   "metadata": {
    "collapsed": false
   },
   "outputs": [],
   "source": [
    "v.top_ten(books.groupby('publisher').count(), 'nyt_title')"
   ]
  },
  {
   "cell_type": "code",
   "execution_count": null,
   "metadata": {
    "collapsed": false
   },
   "outputs": [],
   "source": [
    "v.top_ten(authors, 'a_works_count', 'author')"
   ]
  },
  {
   "cell_type": "markdown",
   "metadata": {},
   "source": [
    "How can we check that this function works the way we expect it to?"
   ]
  },
  {
   "cell_type": "markdown",
   "metadata": {},
   "source": [
    "### Bar charts"
   ]
  },
  {
   "cell_type": "markdown",
   "metadata": {},
   "source": [
    "#### Examples of bar charts that might be useful"
   ]
  },
  {
   "cell_type": "code",
   "execution_count": null,
   "metadata": {
    "collapsed": false
   },
   "outputs": [],
   "source": [
    "# top ten authors by number of works\n",
    "top_ten_author_works = v.top_ten(authors, 'a_works_count', 'author')\n",
    "ax = sns.barplot(x=top_ten_author_works.index, y=top_ten_author_works.values)\n",
    "\n",
    "# rotate long labels\n",
    "#plt.xticks(rotation=45);\n",
    "\n",
    "# align labels with bars\n",
    "#plt.xticks(ha='right');\n",
    "\n",
    "# or pass kwargs to set_xticklabels\n",
    "#ax.set_xticklabels(labels=top_ten_author_works.index, rotation=45, ha='right');"
   ]
  },
  {
   "cell_type": "code",
   "execution_count": null,
   "metadata": {
    "collapsed": false
   },
   "outputs": [],
   "source": [
    "# weeks spent on the list by gender\n",
    "wks_by_gender = authors.groupby('gender', as_index=False).sum()[['gender', 'a_wks_on_list']]\n",
    "ax = sns.barplot(x='gender', y='a_wks_on_list', data=wks_by_gender)\n",
    "\n",
    "# label y-axis\n",
    "ax.set(ylabel='Number of weeks on NYT best sellers list');"
   ]
  },
  {
   "cell_type": "markdown",
   "metadata": {},
   "source": [
    "#### Example of a well-designed bar chart"
   ]
  },
  {
   "cell_type": "markdown",
   "metadata": {},
   "source": [
    "[Remove to improve (the data-ink ratio) by Darkhouse Analytics](http://www.darkhorseanalytics.com/blog/data-looks-better-naked)\n",
    "* Reduce colors\n",
    "* Remove backgrounds\n",
    "* Remove borders\n",
    "* Remove redundant labels\n",
    "* Add direct labels"
   ]
  },
  {
   "cell_type": "code",
   "execution_count": null,
   "metadata": {
    "collapsed": false
   },
   "outputs": [],
   "source": [
    "clear_fig();"
   ]
  },
  {
   "cell_type": "code",
   "execution_count": null,
   "metadata": {
    "collapsed": false
   },
   "outputs": [],
   "source": [
    "# number of authors by gender\n",
    "authors_by_gender = authors['gender'].value_counts()\n",
    "sns.barplot(x=authors_by_gender.index, y=authors_by_gender.values);"
   ]
  },
  {
   "cell_type": "code",
   "execution_count": null,
   "metadata": {
    "collapsed": false
   },
   "outputs": [],
   "source": [
    "# remove backgrounds\n",
    "sns.set_style('white')\n",
    "\n",
    "# protip: need a figure object to show plot again in subsequent cells\n",
    "fig, ax = plt.subplots(figsize=(10,8))\n",
    "ax = sns.barplot(x=authors_by_gender.index, y=authors_by_gender.values, ax=ax);"
   ]
  },
  {
   "cell_type": "code",
   "execution_count": null,
   "metadata": {
    "collapsed": false
   },
   "outputs": [],
   "source": [
    "# creating a new figure because need to pass another argument to barplot\n",
    "fig, ax = plt.subplots(figsize=(10,8))\n",
    "\n",
    "# reduce colors\n",
    "ax = sns.barplot(x=authors_by_gender.index, y=authors_by_gender.values, color='green', ax=ax);"
   ]
  },
  {
   "cell_type": "code",
   "execution_count": null,
   "metadata": {
    "collapsed": false
   },
   "outputs": [],
   "source": [
    "# remove borders\n",
    "ax.set_frame_on(False)\n",
    "fig"
   ]
  },
  {
   "cell_type": "code",
   "execution_count": null,
   "metadata": {
    "collapsed": false
   },
   "outputs": [],
   "source": [
    "# add/format axes labels\n",
    "ax.set_ylabel('Number of authors')\n",
    "ax.set_xlabel('')\n",
    "ax.set_xticklabels([label.title() for label in authors_by_gender.index])\n",
    "fig"
   ]
  },
  {
   "cell_type": "code",
   "execution_count": null,
   "metadata": {
    "collapsed": false
   },
   "outputs": [],
   "source": [
    "# add direct labels - label each bar with y value\n",
    "labels = authors_by_gender.values\n",
    "y_margin = max(labels) * 0.01\n",
    "\n",
    "for bar, label in zip(ax.patches, labels):\n",
    "    #x location of label\n",
    "    x = bar.get_x()\n",
    "    bar_width = bar.get_width()\n",
    "    center = x + bar_width/2.0\n",
    "\n",
    "    #y location of label\n",
    "    bar_height = bar.get_height()\n",
    "    \n",
    "    ax.text(x=center, y=bar_height + y_margin, s=label, ha='center', size='20')    \n",
    "\n",
    "fig"
   ]
  },
  {
   "cell_type": "code",
   "execution_count": null,
   "metadata": {
    "collapsed": false
   },
   "outputs": [],
   "source": [
    "# remove redundant labels\n",
    "ax.set_yticklabels([])\n",
    "fig"
   ]
  },
  {
   "cell_type": "markdown",
   "metadata": {},
   "source": [
    "##### Let's make it abstract and reusable"
   ]
  },
  {
   "cell_type": "markdown",
   "metadata": {},
   "source": [
    "One function of different parts of the figure\n",
    "* empty figure/axes\n",
    "* axes labels --> depend on axes\n",
    "* x-ticks labels --> depend on data\n",
    "* direct labels on bars --> depend on data"
   ]
  },
  {
   "cell_type": "markdown",
   "metadata": {},
   "source": [
    "###### Empty figures/axes"
   ]
  },
  {
   "cell_type": "code",
   "execution_count": null,
   "metadata": {
    "collapsed": true
   },
   "outputs": [],
   "source": [
    "def create_empty_fig(xlabel='', ylabel=''):\n",
    "    '''Returns empty Tufte-style fig, ax objects'''\n",
    "    # create figures and axes objects to modify\n",
    "    # fig controls figure-level settings (across group of subplots)\n",
    "    # ax controls axis-level settings (across each subplot)\n",
    "    fig, ax = plt.subplots(figsize=(10,8))\n",
    "    \n",
    "    # remove square outline\n",
    "    ax.set_frame_on(False)\n",
    "    \n",
    "    return fig, ax"
   ]
  },
  {
   "cell_type": "code",
   "execution_count": null,
   "metadata": {
    "collapsed": false
   },
   "outputs": [],
   "source": [
    "fig, ax = create_empty_fig()"
   ]
  },
  {
   "cell_type": "markdown",
   "metadata": {},
   "source": [
    "###### Labels that depends on axis object"
   ]
  },
  {
   "cell_type": "code",
   "execution_count": null,
   "metadata": {
    "collapsed": true
   },
   "outputs": [],
   "source": [
    "def set_axes_labels(ax, xlabel='', ylabel=''):\n",
    "    '''Adds axes labels'''\n",
    "    # add labels for axes\n",
    "    ax.set(xlabel=xlabel, ylabel=ylabel)\n",
    "    return ax"
   ]
  },
  {
   "cell_type": "code",
   "execution_count": null,
   "metadata": {
    "collapsed": false
   },
   "outputs": [],
   "source": [
    "# note: data is a series\n",
    "sns.barplot(x=authors_by_gender.index, y=authors_by_gender.values, color=\"green\", ax=ax)\n",
    "ax = set_axes_labels(ax, ylabel='Number of authors')\n",
    "fig"
   ]
  },
  {
   "cell_type": "markdown",
   "metadata": {},
   "source": [
    "###### Labels that depends on data"
   ]
  },
  {
   "cell_type": "code",
   "execution_count": null,
   "metadata": {
    "collapsed": false
   },
   "outputs": [],
   "source": [
    "def format_xticks(data, ax, xticks=True, xticksrotate=False):\n",
    "    '''Formats xtick labels to title case if True, removes xtick labels if False'''\n",
    "    if (xticks == True and xticksrotate == False):\n",
    "        ax.set_xticklabels([label.title() for label in data.index])\n",
    "        \n",
    "    elif (xticks == True and xticksrotate == True):\n",
    "        ax.set_xticklabels([label.title() for label in data.index], rotation=45, ha='right')\n",
    "    \n",
    "    elif (xticks == False):\n",
    "        ax.set_xticklabels([])\n",
    "    \n",
    "    return ax"
   ]
  },
  {
   "cell_type": "code",
   "execution_count": null,
   "metadata": {
    "collapsed": false
   },
   "outputs": [],
   "source": [
    "ax = format_xticks(authors_by_gender, ax)\n",
    "fig"
   ]
  },
  {
   "cell_type": "code",
   "execution_count": null,
   "metadata": {
    "collapsed": true
   },
   "outputs": [],
   "source": [
    "# add direct labels\n",
    "def add_bar_labels(data, ax):\n",
    "    '''Removes y-axis label and adds direct labels to tops of bars of sns barplot'''\n",
    "    # remove y axis tick labels\n",
    "    ax.set_yticklabels([])\n",
    "    \n",
    "    # label each bar with y value\n",
    "    labels = data.values \n",
    "    y_margin = max(labels) * 0.01\n",
    "    for bar, label in zip(ax.patches, labels):\n",
    "        #x location of label\n",
    "        x = bar.get_x()\n",
    "        bar_width = bar.get_width()\n",
    "        center = x + bar_width/2.0\n",
    "\n",
    "        #y location of label\n",
    "        bar_height = bar.get_height()\n",
    "\n",
    "        ax.text(x=center, y=bar_height + y_margin, s=label, ha='center', size=20)\n",
    "\n",
    "    return ax"
   ]
  },
  {
   "cell_type": "code",
   "execution_count": null,
   "metadata": {
    "collapsed": false
   },
   "outputs": [],
   "source": [
    "ax = add_bar_labels(authors_by_gender, ax)\n",
    "fig"
   ]
  },
  {
   "cell_type": "markdown",
   "metadata": {},
   "source": [
    "##### Let's make these functions accessible to our whole repo by moving it to a .py file."
   ]
  },
  {
   "cell_type": "markdown",
   "metadata": {},
   "source": [
    "How can we check that this function works the way we expect it to?"
   ]
  },
  {
   "cell_type": "markdown",
   "metadata": {},
   "source": [
    "#### Example of a meaningful bar chart"
   ]
  },
  {
   "cell_type": "markdown",
   "metadata": {},
   "source": [
    "How would you interpret the graph above? What would you want the audience to take away?"
   ]
  },
  {
   "cell_type": "markdown",
   "metadata": {},
   "source": [
    "Write a list of interpretations here:"
   ]
  },
  {
   "cell_type": "markdown",
   "metadata": {},
   "source": [
    "Drive your message home with your visualization!\n",
    "* Highlight the bar with the highest value\n",
    "* Add a meaningful title"
   ]
  },
  {
   "cell_type": "code",
   "execution_count": null,
   "metadata": {
    "collapsed": false
   },
   "outputs": [],
   "source": [
    "# dataset is number of authors by gender\n",
    "data = authors['gender'].value_counts()\n",
    "\n",
    "# color palette\n",
    "highlight = 'green'\n",
    "standard = 'grey'\n",
    "\n",
    "colors = [standard if (value < max(data.values)) else highlight for value in data.values]\n",
    "list(zip(data, colors))"
   ]
  },
  {
   "cell_type": "code",
   "execution_count": null,
   "metadata": {
    "collapsed": false
   },
   "outputs": [],
   "source": [
    "# create the plot\n",
    "fig, ax = v.create_empty_fig()\n",
    "sns.barplot(x=data.index, y=data.values, palette=colors, ax=ax)\n",
    "\n",
    "ax = v.set_axes_labels(ax, ylabel='Number of authors')\n",
    "ax = v.format_xticks(authors_by_gender, ax)\n",
    "ax = v.add_bar_labels(authors_by_gender, ax)"
   ]
  },
  {
   "cell_type": "code",
   "execution_count": null,
   "metadata": {
    "collapsed": false
   },
   "outputs": [],
   "source": [
    "# add a meaningful title\n",
    "ax.set_title('More than half of the authors on the NYT Best Sellers list are male.', loc='left')\n",
    "fig"
   ]
  },
  {
   "cell_type": "markdown",
   "metadata": {},
   "source": [
    "##### Let's make it abstract and resuable"
   ]
  },
  {
   "cell_type": "code",
   "execution_count": null,
   "metadata": {
    "collapsed": false
   },
   "outputs": [],
   "source": [
    "def highlight_max(data, highlight, standard):\n",
    "    '''Return list of colors, with index of maximum value in data set to highlight color'''\n",
    "    return [highlight if (x == max(data.values)) else standard for x in data.values]"
   ]
  },
  {
   "cell_type": "code",
   "execution_count": null,
   "metadata": {
    "collapsed": true
   },
   "outputs": [],
   "source": [
    "def bar_chart(data, highlight='grey', standard='grey', xlabel='', ylabel='', title='', xticksrotate=False):\n",
    "    '''\n",
    "    Creates Tufte-style bar chart \n",
    "    Set highlight to string of color to highlight highest value bar\n",
    "    Note: data is a series with labeled indices\n",
    "    '''\n",
    "    # create empty fig, ax\n",
    "    fig, ax = create_empty_fig()\n",
    "\n",
    "    # draw plot bar\n",
    "    colors = highlight_max(data, highlight, standard)\n",
    "    ax = sns.barplot(x=data.index, y=data.values, palette=colors, ax=ax)\n",
    "    \n",
    "    ax = set_axes_labels(ax, xlabel=xlabel, ylabel=ylabel)\n",
    "    \n",
    "    # format xtick labels    \n",
    "    ax = format_xticks(data, ax, xticksrotate=xticksrotate)\n",
    "\n",
    "    # add labels on top of bars\n",
    "    ax = add_bar_labels(data, ax)\n",
    "    \n",
    "    # add a meaningful title\n",
    "    ax.set_title(title, loc='left')\n",
    "    \n",
    "    return fig, ax"
   ]
  },
  {
   "cell_type": "code",
   "execution_count": null,
   "metadata": {
    "collapsed": false,
    "scrolled": true
   },
   "outputs": [],
   "source": [
    "# create the plot\n",
    "ylabel='Number of authors'\n",
    "title = 'More than half of the authors on the NYT Best Sellers list are male.'\n",
    "bar_chart(authors_by_gender, highlight='green', ylabel=ylabel, title=title);"
   ]
  },
  {
   "cell_type": "code",
   "execution_count": null,
   "metadata": {
    "collapsed": false
   },
   "outputs": [],
   "source": [
    "# dataset is number of weeks on nyt gender of author\n",
    "wks_by_gender = authors.groupby('gender').sum()['a_wks_on_list']\n",
    "print(wks_by_gender)\n",
    "\n",
    "bar_chart(wks_by_gender, highlight='green', ylabel='Number of weeks on list');"
   ]
  },
  {
   "cell_type": "code",
   "execution_count": null,
   "metadata": {
    "collapsed": false
   },
   "outputs": [],
   "source": [
    "books_by_wks = v.top_ten(books, 'b_wks_on_list', index='nyt_title')\n",
    "bar_chart(books_by_wks, ylabel='Number of weeks on list', xticksrotate=True, highlight='red');"
   ]
  },
  {
   "cell_type": "markdown",
   "metadata": {},
   "source": [
    "##### Let's make these functions accessible to our whole repo by moving it to a .py file."
   ]
  },
  {
   "cell_type": "markdown",
   "metadata": {},
   "source": [
    "How can we check that this function works the way we expect it to?"
   ]
  },
  {
   "cell_type": "markdown",
   "metadata": {
    "collapsed": true
   },
   "source": [
    "### Line chart"
   ]
  },
  {
   "cell_type": "code",
   "execution_count": null,
   "metadata": {
    "collapsed": false
   },
   "outputs": [],
   "source": [
    "decades = v.top_ten(books.groupby('decade').count(), 'nyt_title').sort_index()\n",
    "bar_chart(decades);"
   ]
  },
  {
   "cell_type": "code",
   "execution_count": null,
   "metadata": {
    "collapsed": false
   },
   "outputs": [],
   "source": [
    "sns.pointplot(decades.index, decades.values);"
   ]
  },
  {
   "cell_type": "code",
   "execution_count": null,
   "metadata": {
    "collapsed": false
   },
   "outputs": [],
   "source": [
    "fig, ax = v.create_empty_fig()\n",
    "sns.pointplot(decades.index, decades.values, ax=ax)\n",
    "set_axes_labels(ax, xlabel='', ylabel='Number of books')\n",
    "ax.set_yticks([]);"
   ]
  },
  {
   "cell_type": "code",
   "execution_count": null,
   "metadata": {
    "collapsed": true
   },
   "outputs": [],
   "source": []
  }
 ],
 "metadata": {
  "anaconda-cloud": {},
  "kernelspec": {
   "display_name": "Python [conda root]",
   "language": "python",
   "name": "conda-root-py"
  },
  "language_info": {
   "codemirror_mode": {
    "name": "ipython",
    "version": 3
   },
   "file_extension": ".py",
   "mimetype": "text/x-python",
   "name": "python",
   "nbconvert_exporter": "python",
   "pygments_lexer": "ipython3",
   "version": "3.6.0"
  }
 },
 "nbformat": 4,
 "nbformat_minor": 1
}
